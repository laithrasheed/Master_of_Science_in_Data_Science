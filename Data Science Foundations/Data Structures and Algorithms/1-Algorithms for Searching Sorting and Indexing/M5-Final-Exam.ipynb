{
 "cells": [
  {
   "cell_type": "markdown",
   "id": "2cd0dee7",
   "metadata": {
    "deletable": false,
    "editable": false,
    "nbgrader": {
     "cell_type": "markdown",
     "checksum": "0814e9e29ca70befeecb175659e3cdb9",
     "grade": false,
     "grade_id": "cell-d184f01411a315e0",
     "locked": true,
     "schema_version": 3,
     "solution": false,
     "task": false
    }
   },
   "source": [
    "# Final Exam Instructions\n",
    "\n",
    "This is a \"take home\" final exam. You have four problems and __24 hours__ to solve them. \n",
    "  - We expect that the problems will cumulatively require 4 - 6 hours of work to finish and the remaining 20 hours will provide you the necessary flexibility.\n",
    "  \n",
    "### Format\n",
    "\n",
    "The problems are algorithmic coding problems that require you to use the concepts you have learned so far to solve problems.  \n",
    "\n",
    "- Each problem has an algorithm design part: you shouldd write pseudocode and work out the worst/expected case running time for your own benefit.\n",
    "- However, these portions will not be graded.\n",
    "- Each problem has a coding portion where you will have to code up your solution.\n",
    "- The coding portion will be graded against automatic tests.\n",
    "\n",
    "\n",
    "### Rules\n",
    "  \n",
    "- The exam is open book and notes. \n",
    "   - You may access your own notes and any resources available through the coursera class website.\n",
    "  - You may python language documentation and tutorials online.\n",
    "- Your code should be efficient: if you have inefficiency the notebook may not pass all the tests in time.\n",
    "   - If the notebook does not pass all tests within a time limit (set internally by cousera's autograder), you may not receive points.\n",
    "- Use of external resources other than those sanctioned above is __disallowed__: \n",
    "  - Asking for help from anyone other than course facilitators is disallowed.\n",
    "  - Course facilitators will be able to provide clarifications about problems but no extra hints will be provided. \n",
    "  - Posting problems from this exam on external websites/forums is disallowed.\n",
    "  - Cutting and pasting code fragments from external sources is prohibited.   \n",
    "  - Searching for solutions online is strictly forbidden.\n",
    "- Please do not post any part of this exam or solutions online.\n",
    "- It is highly recommended that you start the exam during a time when a course facilitator is available through email to provide timely clarifications.\n",
    "- __Do not submit until you are ready__\n",
    "  - Do not submit the exam until you are fully done. \n",
    "  - Resubmissions may be permitted but not lead to grade changes.\n",
    "\n",
    "## Useful Tips\n",
    "\n",
    "- Have you understood the problem completely?\n",
    "  - Use pencil and paper to work out examples.\n",
    "  - Ask the facilitator for clarifications, if needed.\n",
    "    - This will unfortunately take time.\n",
    "    - Facilitators will not provide hints.\n",
    "    - It may be helpful to arrange the exam around known office hours.\n",
    "  - It is helpful to go over each and every problem and have a list of questions for the facilitator.\n",
    "  - Plan your time carefully: the provided 24 hours should be plenty of time.\n",
    "  - Get the \"easy\" problems out of the way.\n",
    "  - Go through test cases carefully: they can often give you some useful hints.\n",
    "\n"
   ]
  },
  {
   "cell_type": "markdown",
   "id": "e97a580d",
   "metadata": {
    "deletable": false,
    "editable": false,
    "nbgrader": {
     "cell_type": "markdown",
     "checksum": "604aca2cc0ee502eb926481e50de8c97",
     "grade": false,
     "grade_id": "cell-1d31a30a4e2bfbaf",
     "locked": true,
     "schema_version": 3,
     "solution": false,
     "task": false
    }
   },
   "source": [
    "## Useful Python Tips.\n",
    "\n",
    "### Tuples\n",
    "  - Python allows us to have tuples of the form `(x, y)`. \n",
    "  - You can compare tuples using the in-built operators. \n",
    "    - Tuple comparison in python is lexicographic. For example `(1, 2) < (3, 3)` or `(1,2) < (1, 3)`. \n",
    "    \n",
    "### Sorting\n",
    "  - You can use inbuilt sorting functions in python. For example if `lst` is a list, then `sorted(lst)` will sort `lst` in ascending order.\n",
    "  - https://www.w3schools.com/python/ref_func_sorted.asp\n",
    "  \n",
    "### Enumerated Loops\n",
    "  - You can iterate through list with indices in python using enumerate.\n",
    "  - https://www.geeksforgeeks.org/enumerate-in-python/"
   ]
  },
  {
   "cell_type": "markdown",
   "id": "7ea8ff16",
   "metadata": {
    "deletable": false,
    "editable": false,
    "nbgrader": {
     "cell_type": "markdown",
     "checksum": "163e46e025341118b4a6b4a4abe01b04",
     "grade": false,
     "grade_id": "cell-523cb1c2311c4f1a",
     "locked": true,
     "schema_version": 3,
     "solution": false,
     "task": false
    }
   },
   "source": [
    "## Problem 1 (5 points)\n",
    "\n",
    "Given a Python list/array `a: [a[0], ..., a[n-1]]` of floating point numbers, we would like to find the \"sorted rank\" of each element. I.e, return an array `r: [ r[0], ..., r[n-1]]` such that `r[i]` is the rank of the element `a[i]` if we were to sort the array `a` in ascending order. \n",
    "\n",
    "In other words, if `r[i] = j` then the corresponding element `a[i]` would occur in the $j^{th}$ position if the array `a` were to be sorted in the ascending order.\n",
    "\n",
    "\n",
    "Note that if `r[i] = 0`, this means that `a[i]` is the least element. Likewise, if `r[j]` is `n-1`, then `a[j]` is the maximal element of the array `a`. The original array `a` should not be modified.\n",
    "\n",
    "You may use inbuilt sorting routine in python or write your own $\\Theta(n \\log(n))$ time sorting routine.\n",
    "\n",
    "\n",
    "\n",
    "***Example***\n",
    "\n",
    "~~~\n",
    "a: [-1, 5, -2, 3, 0, 2]\n",
    "r: [1, 5, 0, 4, 2, 3 ]\n",
    "~~~\n",
    "\n",
    "**Hint**\n",
    "\n",
    "Given an input list:\n",
    "\n",
    "~~~\n",
    "a: [-1, 5, -2, 3, 0, 2]\n",
    "~~~\n",
    "\n",
    "First \"mark\" each element by its index in the list `a` so that you can note the original position of an element after you sort it.\n",
    "\n",
    "~~~\n",
    "a_marked: [ (-1, 0), (5, 1), (-2, 2), (3, 3), (0, 4), (2, 5) ]\n",
    "~~~\n",
    "\n",
    "What will happen if you try to sort the list/array `a_marked`?"
   ]
  },
  {
   "cell_type": "code",
   "execution_count": 1,
   "id": "96c21f6b",
   "metadata": {
    "deletable": false,
    "nbgrader": {
     "cell_type": "code",
     "checksum": "ca194bebec9b9e1260cb02663a97d6c8",
     "grade": false,
     "grade_id": "cell-ed6556d1b57271ab",
     "locked": false,
     "schema_version": 3,
     "solution": true,
     "task": false
    }
   },
   "outputs": [],
   "source": [
    "# def getSortedRank(a):\n",
    "#     # Return a list rank of the same size of a\n",
    "#     # rank[j] = i means that a[i] must be the j^th element in sorted order.\n",
    "#     # For further details see above.\n",
    "#     # your code here\n",
    "def getSortedRank(a):\n",
    "    # Create a list of tuples where the first element is a value in the input list \n",
    "    # and the second element is its index in the input list.\n",
    "    a_marked = [(value, index) for index, value in enumerate(a)]\n",
    "\n",
    "    # Sort the marked list in ascending order of values\n",
    "    a_marked_sorted = sorted(a_marked)\n",
    "\n",
    "    # Create a list of ranks by populating it with the second element of each tuple in the sorted marked list\n",
    "    rank = [0] * len(a)\n",
    "    for i, tup in enumerate(a_marked_sorted):\n",
    "        rank[tup[1]] = i\n",
    "\n",
    "    return rank"
   ]
  },
  {
   "cell_type": "code",
   "execution_count": 2,
   "id": "28b5f650",
   "metadata": {
    "deletable": false,
    "editable": false,
    "nbgrader": {
     "cell_type": "code",
     "checksum": "637000cd0e457f69c3eadca84e45da2b",
     "grade": true,
     "grade_id": "cell-e685174d2d2af687",
     "locked": true,
     "points": 5,
     "schema_version": 3,
     "solution": false,
     "task": false
    }
   },
   "outputs": [
    {
     "name": "stdout",
     "output_type": "stream",
     "text": [
      " -- Test 1 -- \n",
      "[1, 5, 0, 4, 2, 3]\n",
      " -- Test 2 --\n",
      "[0, 9, 10, 11, 3, 6, 4, 2, 1, 8, 7, 5]\n",
      "--- Random Test 3 ---\n",
      "a = [-40, 4, -15, 22, 0, 28, 6, 25, 0, -18, -3, -39, -23, -21, 33, -30, 6, -2, -22, 0]\n",
      "result = [0, 13, 7, 16, 10, 18, 14, 17, 11, 6, 8, 1, 3, 5, 19, 2, 15, 9, 4, 12]\n",
      "--- Random Test 4 ---\n",
      "array too long to print\n",
      "passed\n",
      "--- Random Test 5 ---\n",
      "array too long to print\n",
      "passed\n",
      "--- Random Test 6 ---\n",
      "array too long to print\n",
      "passed\n",
      "All tests passed (10 points)\n"
     ]
    }
   ],
   "source": [
    "from random import randint\n",
    "\n",
    "def testRankArray(a, rank):\n",
    "    n = len(a)\n",
    "    sarray = [None]*n\n",
    "    # Use the result to create a \"sorted\" array\n",
    "    for (i, j) in enumerate(rank):\n",
    "        sarray[j] = a[i]\n",
    "    assert sum(rank) == (n-1)*(n)/2\n",
    "    assert sum(sarray) == sum(a)\n",
    "    # check that the sorted array is really sorted\n",
    "    elt0 = sarray[0]\n",
    "    for elt in sarray[1:]:\n",
    "        assert elt0 <= elt, 'Test failed'\n",
    "        elt0 = elt\n",
    "    return\n",
    "\n",
    "print(' -- Test 1 -- ')\n",
    "r = getSortedRank([-1, 5, -2, 3, 0, 2])\n",
    "print(r)\n",
    "assert r == [1, 5, 0, 4, 2, 3] , 'Test 1 failed'\n",
    "\n",
    "print(' -- Test 2 --')\n",
    "a1 =[-1, 6, 7, 8, 2, 3, 2, 1, 0, 5, 4, 2]\n",
    "r1 = getSortedRank(a1)\n",
    "print(r1)\n",
    "testRankArray(a1, r1)\n",
    "\n",
    "print('--- Random Test 3 ---')\n",
    "\n",
    "def makeTestArray(n):\n",
    "    a = [0]*n\n",
    "    for i in range(n):\n",
    "        a[i] = randint(-2*n, 2*n)\n",
    "    return a\n",
    "\n",
    "a3 = makeTestArray(20)\n",
    "r3 = getSortedRank(a3)\n",
    "print(f'a = {a3}')\n",
    "print(f'result = {r3}')\n",
    "testRankArray(a3, r3)\n",
    "\n",
    "print('--- Random Test 4 ---')\n",
    "\n",
    "a4 = makeTestArray(200)\n",
    "r4 = getSortedRank(a4)\n",
    "print('array too long to print')\n",
    "#print(f'a = {a4}')\n",
    "#print(f'result = {r4}')\n",
    "testRankArray(a4, r4)\n",
    "print('passed')\n",
    "\n",
    "print('--- Random Test 5 ---')\n",
    "\n",
    "a5 = makeTestArray(2000)\n",
    "r5 = getSortedRank(a5)\n",
    "print('array too long to print')\n",
    "#print(f'a = {a5}')\n",
    "#print(f'result = {r5}')\n",
    "testRankArray(a5, r5)\n",
    "print('passed')\n",
    "print('--- Random Test 6 ---')\n",
    "\n",
    "a6 = makeTestArray(20000)\n",
    "r6 = getSortedRank(a6)\n",
    "print('array too long to print')\n",
    "#print(f'a = {a6}')\n",
    "#print(f'result = {r6}')\n",
    "testRankArray(a6, r6)\n",
    "print('passed')\n",
    "print('All tests passed (10 points)')\n"
   ]
  },
  {
   "cell_type": "markdown",
   "id": "4e51687f",
   "metadata": {
    "deletable": false,
    "editable": false,
    "nbgrader": {
     "cell_type": "markdown",
     "checksum": "36460e64e71717e2f5dc1ae387cd760b",
     "grade": false,
     "grade_id": "cell-19a4026481e33dc6",
     "locked": true,
     "schema_version": 3,
     "solution": false,
     "task": false
    }
   },
   "source": [
    "## Problem 2 (15 points)\n",
    "\n",
    "Given a  Python list (array) `a: [ a[0], ..., a[n-1] ]` of $n > 2$ floating point numbers, we would like to find two elements `a[i]` and `a[j]` such that $i < j$ and the absolute value of the difference $\\left| a[i] - a[j] \\right|$ is minimized.\n",
    "\n",
    "The input to the function a list  `a` and output should be a tuple of indices `(i,j)`, wherein  \n",
    "  - $0 \\leq i < j < n$ and \n",
    "  - the absolute difference $|a[i] - a[j]|$ is the minimized.\n",
    "\n",
    "If there are multiple pairs $(i,j)$ that produce the same absolute difference your algorithm can output any one of them.\n",
    "\n",
    "Example: \n",
    "\n",
    "~~~\n",
    "Input a : [ 1, 9, 18,  14, 17, 11]\n",
    "Output: i,j = (2,4) \n",
    "~~~\n",
    "\n",
    "Note that `a[2] = 18` and `a[4] = 17`. The absolute difference $1$ is the minimum possible among all pairs. \n",
    "\n",
    "\n",
    "\n",
    "\n",
    "First, describe the algorithm briefly in pseudocode or the main idea in words. Write down the complexity. \n",
    "  - Your algorithm must have a complexity $O(n^{2-\\epsilon})$. In other words, the trivial $O(n^2)$ algorithm of going through all pairs of indices is not acceptable.\n",
    "  - You may use the solution to the previous problem assuming that it's complexity is $\\Theta(n \\log(n))$.\n",
    "  \n"
   ]
  },
  {
   "cell_type": "markdown",
   "id": "520d624f",
   "metadata": {
    "deletable": false,
    "nbgrader": {
     "cell_type": "markdown",
     "checksum": "914cedeaa19013b52fac283888749749",
     "grade": true,
     "grade_id": "cell-b076aed5b3a3dbbb",
     "locked": false,
     "points": 0,
     "schema_version": 3,
     "solution": true,
     "task": false
    }
   },
   "source": [
    "YOUR ANSWER HERE"
   ]
  },
  {
   "cell_type": "markdown",
   "id": "b185262f",
   "metadata": {
    "deletable": false,
    "editable": false,
    "nbgrader": {
     "cell_type": "markdown",
     "checksum": "dfd5a4acfaf6a1d156482bc6fbb49eaa",
     "grade": false,
     "grade_id": "cell-6df37a0b76aed9e5",
     "locked": true,
     "schema_version": 3,
     "solution": false,
     "task": false
    }
   },
   "source": [
    "Implement your algorithm: You can use any in-built python list API function, including functions to sort a list in python. https://www.w3schools.com/python/python_ref_list.asp"
   ]
  },
  {
   "cell_type": "code",
   "execution_count": 3,
   "id": "6e482671",
   "metadata": {
    "deletable": false,
    "nbgrader": {
     "cell_type": "code",
     "checksum": "4232857f36194ca4889076bc1f7b11fc",
     "grade": false,
     "grade_id": "cell-1166fa1ebe827348",
     "locked": false,
     "schema_version": 3,
     "solution": true,
     "task": false
    }
   },
   "outputs": [],
   "source": [
    "\n",
    "\n",
    "def findMinAbsDiff(a):\n",
    "    # you must return a tuple (i,j) -- see instructions above.\n",
    "    assert (len(a) > 2)\n",
    "    n = len(a)\n",
    "    min_diff = float('inf')\n",
    "    min_indices = None\n",
    "    for i in range(n):\n",
    "        for j in range(i+1, n):\n",
    "            diff = abs(a[i] - a[j])\n",
    "            if diff < min_diff:\n",
    "                min_diff = diff\n",
    "                min_indices = (i,j)\n",
    "    return min_indices"
   ]
  },
  {
   "cell_type": "code",
   "execution_count": 4,
   "id": "11d28d37",
   "metadata": {
    "deletable": false,
    "editable": false,
    "nbgrader": {
     "cell_type": "code",
     "checksum": "7d07c689bd8013b59a8aa3d9a7734f95",
     "grade": true,
     "grade_id": "cell-c8f90426de75ce5a",
     "locked": true,
     "points": 15,
     "schema_version": 3,
     "solution": false,
     "task": false
    }
   },
   "outputs": [
    {
     "name": "stdout",
     "output_type": "stream",
     "text": [
      " -- Test 1 -- \n",
      "i=2, j=4\n",
      "passed\n",
      "-- Test 2 --\n",
      "i=0, j=4\n",
      "passed\n",
      "-- Test 3 --\n",
      "i=4, j=7\n",
      "passed\n",
      "-- Test 4 --\n",
      "i=51, j=54\n",
      "passed\n",
      "-- Test 5 --\n",
      "i=17610, j=23373\n",
      "passed\n",
      "All tests passed (15 points)!\n"
     ]
    }
   ],
   "source": [
    "from random import shuffle\n",
    "print(' -- Test 1 -- ')\n",
    "(i, j) = findMinAbsDiff([ 1, 9, 18,  14, 17, 11])\n",
    "print(f'i={i}, j={j}')\n",
    "assert i == 2 and j == 4, 'Test 1 failed'\n",
    "print('passed')\n",
    "print('-- Test 2 --')\n",
    "a1 = [1, 5, 9, 11, 2, 15, 25, 12, 18]\n",
    "(i1, j1) = findMinAbsDiff(a1)\n",
    "print(f'i={i1}, j={j1}')\n",
    "assert abs(a1[i1] - a1[j1]) == 1, f'Test 2 failed: Minimmum difference must be 1 your code produces {abs(a1[i1] - a1[j1])}'\n",
    "print('passed')\n",
    "print('-- Test 3 --')\n",
    "a2 = list(range(-10, 10, 3))\n",
    "a2.append(3)\n",
    "(i2, j2) = findMinAbsDiff(a2)\n",
    "print(f'i={i2}, j={j2}')\n",
    "assert abs(a2[i2] - a2[j2]) == 1, f'Test 2 failed: Minimmum difference must be 1 your code produces {abs(a2[i2] - a2[j2])}'\n",
    "print('passed')\n",
    "\n",
    "print('-- Test 4 --')\n",
    "a3 = list(range(-100, 100, 3))\n",
    "a3.append(11)\n",
    "shuffle(a3)\n",
    "(i3, j3) = findMinAbsDiff(a3)\n",
    "print(f'i={i3}, j={j3}')\n",
    "assert abs(a3[i3] - a3[j3]) == 0, f'Test 4 failed: Minimmum difference must be 0 your code produces {abs(a3[i3] - a3[j3])}'\n",
    "print('passed')\n",
    "\n",
    "\n",
    "\n",
    "print('-- Test 5 --')\n",
    "a4 = list(range(-100, 100000, 3))\n",
    "a4.append(12)\n",
    "shuffle(a4)\n",
    "(i4, j4) = findMinAbsDiff(a4)\n",
    "print(f'i={i4}, j={j4}')\n",
    "assert abs(a4[i4] - a4[j4]) == 1, f'Test 5 failed: Minimmum difference must be 1 your code produces {abs(a4[i4] - a4[j4])}'\n",
    "print('passed')\n",
    "\n",
    "print('All tests passed (15 points)!')\n"
   ]
  },
  {
   "cell_type": "code",
   "execution_count": 5,
   "id": "8c0634d7",
   "metadata": {},
   "outputs": [
    {
     "name": "stdout",
     "output_type": "stream",
     "text": [
      "[95, 80, 11, 29, 23, -25, -13, -88, -61, -70, -64, 74, -100, 8, 47, -58, 56, -55, -46, 11, 35, -19, -97, 44, 98, -16, -37, 77, -43, 17, 83, -34, 89, 65, 86, -67, -91, -22, 2, -79, -4, 32, -76, -82, -49, -1, 50, 38, 14, 62, -73, -31, -85, 59, -10, 26, 68, -40, 5, 20, 41, -94, -7, -52, 53, 92, 71, -28]\n",
      "68\n"
     ]
    }
   ],
   "source": [
    "a = list(range(-100, 100, 3))\n",
    "a.append(11)\n",
    "shuffle(a)\n",
    "print(a)\n",
    "print(len(a))"
   ]
  },
  {
   "cell_type": "markdown",
   "id": "ec8ab54e",
   "metadata": {
    "deletable": false,
    "editable": false,
    "nbgrader": {
     "cell_type": "markdown",
     "checksum": "37084ed3b380f3309f5738b47ac119f3",
     "grade": false,
     "grade_id": "cell-5d0d0d24c0b95632",
     "locked": true,
     "schema_version": 3,
     "solution": false,
     "task": false
    }
   },
   "source": [
    "## Problem 3 (25 points)\n",
    "\n",
    "You are given $k > 2$ lists `a1, ..., ak`, each of size $n$. Each list `ai: [ ai[0], ..., ai[n-1] ]` has `n` numbers. Design an algorithm that finds out all the numbers that are present in all $k$ lists. Your algorithm should run in expected time $\\Theta(n \\times k)$ and take no more than $\\Theta(n)$ extra space."
   ]
  },
  {
   "cell_type": "markdown",
   "id": "604d199c",
   "metadata": {
    "deletable": false,
    "editable": false,
    "nbgrader": {
     "cell_type": "markdown",
     "checksum": "8f72efa64bdd6545a15dff1f1411af63",
     "grade": false,
     "grade_id": "cell-330115e643c7981c",
     "locked": true,
     "schema_version": 3,
     "solution": false,
     "task": false
    }
   },
   "source": [
    "Describe your algorithm's pseudocode below (not graded)."
   ]
  },
  {
   "cell_type": "markdown",
   "id": "7a88d8f5",
   "metadata": {
    "deletable": false,
    "nbgrader": {
     "cell_type": "markdown",
     "checksum": "15d18392be9401ef35ae98e3e7c109de",
     "grade": true,
     "grade_id": "cell-3edb602d4e0635b5",
     "locked": false,
     "points": 0,
     "schema_version": 3,
     "solution": true,
     "task": false
    }
   },
   "source": [
    "YOUR ANSWER HERE"
   ]
  },
  {
   "cell_type": "markdown",
   "id": "b38e84e9",
   "metadata": {
    "deletable": false,
    "editable": false,
    "nbgrader": {
     "cell_type": "markdown",
     "checksum": "4bf6df0061920097cb925f0994224560",
     "grade": false,
     "grade_id": "cell-12a81b23e3265174",
     "locked": true,
     "schema_version": 3,
     "solution": false,
     "task": false
    }
   },
   "source": [
    "#### Part A (15 points)\n",
    "Implement a function `returnAllCommonElement(list_of_lists)` that takes in a list of lists `[a1, ..., ak]` where each `ai` is a list of numbers. \n",
    "\n",
    "You may use a python dictionary or implement your own hashtable. For python dictionaries (typically implemented as open-address hash tables) assume that expected cost of insertion, find is $\\Theta(1)$, and cost of iterating through the entire hashtable equals the number of elements in the hashtable.\n",
    "\n",
    "It returns a list of numbers that are common to all lists. \n",
    "  - There is no requirement that the output list be sorted.\n",
    "  - However, each common element must occur exactly once in the output list.\n",
    "\n",
    "\n",
    "\n",
    "__Example__\n",
    "\n",
    "~~~\n",
    "list_of_lists = [ [ 1, 5, 8, -3, 4, 1, 3], [2, 5, 10, -8, 4, 3, 2] ]\n",
    "\n",
    "expected output = [ 5, 4, 3 ] \n",
    "~~~\n",
    "\n"
   ]
  },
  {
   "cell_type": "code",
   "execution_count": 6,
   "id": "39a0f2ac",
   "metadata": {
    "deletable": false,
    "nbgrader": {
     "cell_type": "code",
     "checksum": "c09348998fd108cd638b410751744b42",
     "grade": false,
     "grade_id": "cell-bb8b34567dd8b8fb",
     "locked": false,
     "schema_version": 3,
     "solution": true,
     "task": false
    }
   },
   "outputs": [],
   "source": [
    "def returnAllCommonElements(list_of_lists):\n",
    "    n = len(list_of_lists)\n",
    "    occurrence_map = {}\n",
    "    for lst in list_of_lists:\n",
    "        for num in set(lst):\n",
    "            if num not in occurrence_map:\n",
    "                occurrence_map[num] = 1\n",
    "            else:\n",
    "                occurrence_map[num] += 1\n",
    "    result = [num for num, count in occurrence_map.items() if count == n]\n",
    "    return result"
   ]
  },
  {
   "cell_type": "code",
   "execution_count": 7,
   "id": "f8a52b86",
   "metadata": {
    "deletable": false,
    "editable": false,
    "nbgrader": {
     "cell_type": "code",
     "checksum": "38030ce60668f6a3e997d439f590c811",
     "grade": true,
     "grade_id": "cell-79929dcc8b79be2e",
     "locked": true,
     "points": 15,
     "schema_version": 3,
     "solution": false,
     "task": false
    }
   },
   "outputs": [
    {
     "name": "stdout",
     "output_type": "stream",
     "text": [
      " -- Test 1 --\n",
      "[3, 4, 5]\n",
      "passed\n",
      " -- Test 2 --\n",
      "[5]\n",
      "passed\n",
      "-- Test 3 --\n",
      "[1, 4, -2]\n",
      "passed\n",
      "-- Test 4 --\n",
      "[]\n",
      "All Tests Passed: 15 points\n"
     ]
    }
   ],
   "source": [
    "print(' -- Test 1 --')\n",
    "list1 = [ [ 1, 5, 8, -3, 4, 1, 3], [2, 5, 10, -8, 4, 3, 2] ]\n",
    "out1 = returnAllCommonElements(list1)\n",
    "print(out1)\n",
    "assert len(out1) == 3\n",
    "assert 5 in out1\n",
    "assert 4 in out1\n",
    "assert 3 in out1\n",
    "print('passed')\n",
    "print(' -- Test 2 --')\n",
    "list2 = [ [1, 3, 5], [5, 4, 7], [8, 1, 5], [-4, 3, 5], [1, 1, 5], [1, 5, 5] ]\n",
    "out2 = returnAllCommonElements(list2)\n",
    "print(out2)\n",
    "assert len(out2)== 1\n",
    "assert 5 in out2\n",
    "print('passed')\n",
    "\n",
    "print('-- Test 3 --')\n",
    "list3 = [[1, -5, 4, -2, -1], [2, -3, 1, -2, 4, 6, 1, 5, -2], [4, 5, 6, 7, 8, 1, 3, -2]]\n",
    "out3 = returnAllCommonElements(list3)\n",
    "print(out3)\n",
    "assert len(out3) == 3\n",
    "assert 1 in out3\n",
    "assert 4 in out3\n",
    "assert -2 in out3\n",
    "print('passed')\n",
    "print('-- Test 4 --')\n",
    "list4 = [ [1, 2, 4, 7, 2, 6, 3, 6, 7], [8, 9,  3, 4, 8, 9], [1, 4, 56, 12, 67, 8, 0, 18], [0, 1, 7, 8, 0, 1, 3, 5, 6, 0, 19]]\n",
    "out4= returnAllCommonElements(list4)\n",
    "print(out4)\n",
    "assert len(out4) == 0\n",
    "\n",
    "print('All Tests Passed: 15 points')"
   ]
  },
  {
   "cell_type": "markdown",
   "id": "aff17baf",
   "metadata": {
    "deletable": false,
    "editable": false,
    "nbgrader": {
     "cell_type": "markdown",
     "checksum": "03d1f7f4af65695bc0999e2c4f0afe36",
     "grade": false,
     "grade_id": "cell-cd76947e25c5d43d",
     "locked": true,
     "schema_version": 3,
     "solution": false,
     "task": false
    }
   },
   "source": [
    "### Part B (5 points)\n",
    "We will now work on an algorithm that avoids the use of a hashtable (and thus any form of randomization) but assume that the lists `a1,..., ak` are already sorted in ascending order.\n",
    "\n",
    "Write a function `findCommonSorted(lst1, lst2)` that takes in two sorted lists `lst1` and `lst2` and returns a sorted list of all common elements between them. \n",
    "  - Your algorithm must run in time $\\Theta(n_1 + n_2)$ where $n_1, n_2$ are the sizes of the two lists. As a hint, modify the merge algorithm.\n",
    "  - Note that the output list must be sorted in ascending order as well."
   ]
  },
  {
   "cell_type": "code",
   "execution_count": 8,
   "id": "b9bff789",
   "metadata": {
    "deletable": false,
    "nbgrader": {
     "cell_type": "code",
     "checksum": "8b1af4ee4b7acdd513d12f6ea6dd508e",
     "grade": false,
     "grade_id": "cell-5f0d82e8b0fe7cfc",
     "locked": false,
     "schema_version": 3,
     "solution": true,
     "task": false
    }
   },
   "outputs": [],
   "source": [
    "def findCommonSorted(list1, list2):\n",
    "    n1, n2 = len(list1), len(list2)\n",
    "    i, j = 0, 0\n",
    "    result = []\n",
    "    while i < n1 and j < n2:\n",
    "        if list1[i] == list2[j]:\n",
    "            result.append(list1[i])\n",
    "            i += 1\n",
    "            j += 1\n",
    "        elif list1[i] < list2[j]:\n",
    "            i += 1\n",
    "        else:\n",
    "            j += 1\n",
    "    return result"
   ]
  },
  {
   "cell_type": "code",
   "execution_count": 9,
   "id": "382c21f3",
   "metadata": {
    "deletable": false,
    "editable": false,
    "nbgrader": {
     "cell_type": "code",
     "checksum": "e9a2c626b8929bc38571dbee6052ca2e",
     "grade": true,
     "grade_id": "cell-592ffb401ef72249",
     "locked": true,
     "points": 5,
     "schema_version": 3,
     "solution": false,
     "task": false
    }
   },
   "outputs": [
    {
     "name": "stdout",
     "output_type": "stream",
     "text": [
      "--Test 1--\n",
      "[-2, 5, 18]\n",
      "passed\n",
      "--Test 2--\n",
      "[0, 5, 7, 29, 36]\n",
      "passed\n",
      "--Test 3--\n",
      "passed\n",
      "All tests passed: 5 points!\n"
     ]
    }
   ],
   "source": [
    "print('--Test 1--')\n",
    "list1 = [ -2, 3, 5, 10, 12,  15, 18]\n",
    "list2 = [-10, -5, -2, 1, 4, 5, 11, 18]\n",
    "out12 = findCommonSorted(list1, list2)\n",
    "print(out12)\n",
    "assert out12 == [-2, 5, 18]\n",
    "print('passed')\n",
    "print('--Test 2--')\n",
    "list3 = [-1, 0, 2, 5, 7, 19, 22, 26, 29, 32, 36]\n",
    "list4 = [-10, -4, -2, 0, 5, 7, 12, 18, 20, 21, 25, 29, 36]\n",
    "out34 = findCommonSorted(list3, list4)\n",
    "print(out34)\n",
    "assert out34 == [0, 5, 7, 29, 36]\n",
    "print('passed')\n",
    "print('--Test 3--')\n",
    "list5 = list(range(0, 100000,2))\n",
    "list6 = list(range(1, 100001, 2))\n",
    "out56 = findCommonSorted(list5, list6)\n",
    "assert len(out56) ==0\n",
    "print('passed')\n",
    "\n",
    "print('All tests passed: 5 points!')"
   ]
  },
  {
   "cell_type": "markdown",
   "id": "d137ce8f",
   "metadata": {
    "deletable": false,
    "editable": false,
    "nbgrader": {
     "cell_type": "markdown",
     "checksum": "69f438e183316d2c6d98a9b4ba53d36f",
     "grade": false,
     "grade_id": "cell-ca0d8aa30e9a494a",
     "locked": true,
     "schema_version": 3,
     "solution": false,
     "task": false
    }
   },
   "source": [
    "#### Part C (5 points)\n",
    "Using the `findCommonSorted` function that finds all common elements in two lists, implement an algorithm for finding common elements in `k` sorted lists : `list_of_lists` but assume that each individual list `aj` is sorted."
   ]
  },
  {
   "cell_type": "code",
   "execution_count": 10,
   "id": "ff356a6a",
   "metadata": {
    "deletable": false,
    "nbgrader": {
     "cell_type": "code",
     "checksum": "df61a2a4eb27081e6b79b6cdede42130",
     "grade": false,
     "grade_id": "cell-aea1fd48ae1e7109",
     "locked": false,
     "schema_version": 3,
     "solution": true,
     "task": false
    }
   },
   "outputs": [],
   "source": [
    "def findAllCommonElementsSorted(list_of_lists):\n",
    "    assert len(list_of_lists) >= 2\n",
    "    result = list_of_lists[0]\n",
    "    for i in range(1, len(list_of_lists)):\n",
    "        result = findCommonSorted(result, list_of_lists[i])\n",
    "    return result"
   ]
  },
  {
   "cell_type": "code",
   "execution_count": 11,
   "id": "3668f96e",
   "metadata": {
    "deletable": false,
    "editable": false,
    "nbgrader": {
     "cell_type": "code",
     "checksum": "6071b678583638da29f97c85fbc8e60e",
     "grade": true,
     "grade_id": "cell-786ed556a50ea062",
     "locked": true,
     "points": 5,
     "schema_version": 3,
     "solution": false,
     "task": false
    }
   },
   "outputs": [
    {
     "name": "stdout",
     "output_type": "stream",
     "text": [
      " -- Test 1 --\n",
      "[3, 4, 5]\n",
      "passed\n",
      " -- Test 2 --\n",
      "[5]\n",
      "passed\n",
      "-- Test 3 --\n",
      "[-2, 1, 4]\n",
      "passed\n",
      "-- Test 4 --\n",
      "[]\n",
      "All Tests Passed: 5 points\n"
     ]
    }
   ],
   "source": [
    "print(' -- Test 1 --')\n",
    "list1 = [ [-3, 1, 3, 4, 5, 8], [-8, 2, 2, 3, 4, 5, 10] ]\n",
    "out1 = findAllCommonElementsSorted(list1)\n",
    "print(out1)\n",
    "assert(out1 == [3, 4, 5])\n",
    "print('passed')\n",
    "print(' -- Test 2 --')\n",
    "list2 = [ [1, 3, 5], [4, 5, 7], [1,  5, 8], [-4, 3, 5], [1, 1, 5], [1, 5, 5] ]\n",
    "out2 = findAllCommonElementsSorted(list2)\n",
    "print(out2)\n",
    "assert len(out2)== 1\n",
    "assert 5 in out2\n",
    "print('passed')\n",
    "\n",
    "print('-- Test 3 --')\n",
    "list3 = [[ -5, -2, -1, 1, 4], [-3, -2, -2,  1, 1, 2, 4, 5, 6], [-2, 1, 3, 4, 5, 6, 7, 8]]\n",
    "out3 = findAllCommonElementsSorted(list3)\n",
    "print(out3)\n",
    "assert out3 == [-2, 1, 4]\n",
    "print('passed')\n",
    "print('-- Test 4 --')\n",
    "list4 = [ [1, 2, 2, 3, 4,  6,  6, 7,  7], [3, 4, 8, 8, 9, 9], [0, 1, 4, 8, 12,18,  56, 67], [0, 0, 0, 1, 1, 3, 5, 6,  7, 8]]\n",
    "out4= findAllCommonElementsSorted(list4)\n",
    "print(out4)\n",
    "assert len(out4) == 0\n",
    "print('All Tests Passed: 5 points')"
   ]
  },
  {
   "cell_type": "markdown",
   "id": "fb190aac",
   "metadata": {
    "deletable": false,
    "editable": false,
    "nbgrader": {
     "cell_type": "markdown",
     "checksum": "d248b91cddeba2d8a46c670129b35b6f",
     "grade": false,
     "grade_id": "cell-3fd4fd875468a94c",
     "locked": true,
     "schema_version": 3,
     "solution": false,
     "task": false
    }
   },
   "source": [
    "## Problem 4 (15 points)\n",
    "\n",
    "You are given two lists:  `a1, a2`. Each list `ai: [ei1,..., ein]` ( i = 1, 2)  is a __sorted__ list of `n` numbers.\n",
    "\n",
    "Design an algorithm to find the  interval $[l, h]$ such that \n",
    "  1. The width of the interval $h - l$ is as small as possible and \n",
    "  2. Each list  has at least one element which lies within the interval $[l, h]$.\n",
    "\n",
    "\n",
    "**Example** \n",
    "\n",
    "~~~\n",
    "a1 = [ 1, 4, 8, 9, 14, 15, 18 ]\n",
    "a2 = [ 5, 10, 19, 23]\n",
    "~~~\n",
    "The smallest possible interval is $[4, 5]$. Note that each array has one element in this interval `a1` has `4`, `a2` has the element `5`. Other possible answers are $[9, 10]$ or $[18, 19]$: both intervals contain at least one element from each list and are also of width $1$.\n",
    "\n",
    "\n",
    "**Hint** Modify the merge algorithm for two sorted arrays as the starting point for designing your algorithm.\n",
    "  - Merge algorithm maintains an index `i` in `a1` and index `j` in `a2`.\n",
    "  - At each step, if `a1[i] < a2[j]` it increments `i` or else it increments `j`.\n",
    "  - Consider the intervals `[a1[i], a2[j]]` at each step.\n",
    "    - Figure out how to use these intervals to solve your problem.\n",
    "  "
   ]
  },
  {
   "cell_type": "code",
   "execution_count": 12,
   "id": "a45fd435",
   "metadata": {
    "deletable": false,
    "nbgrader": {
     "cell_type": "code",
     "checksum": "b98373ec16cc6ee659b3b5dce0862838",
     "grade": false,
     "grade_id": "cell-c59869dea2bd261a",
     "locked": false,
     "schema_version": 3,
     "solution": true,
     "task": false
    }
   },
   "outputs": [],
   "source": [
    "# def findMinContainingInterval(a1, a2):\n",
    "#     # Assume a1, a2 are sorted\n",
    "#     # Return a tuple (lo, hi) of the interval.\n",
    "#     assert len(a1) > 0\n",
    "#     assert len(a2) > 0\n",
    "#     # your code here\n",
    "\n",
    "def findMinContainingInterval(a1, a2):\n",
    "    # Assume a1, a2 are sorted\n",
    "    # Return a tuple (lo, hi) of the interval.\n",
    "    assert len(a1) > 0\n",
    "    assert len(a2) > 0\n",
    "    i, j = 0, 0\n",
    "    lo, hi = None, None\n",
    "    while i < len(a1) and j < len(a2):\n",
    "        if a1[i] <= a2[j]:\n",
    "            if lo is None or a2[j] - a1[i] < hi - lo:\n",
    "                lo, hi = a1[i], a2[j]\n",
    "            i += 1\n",
    "        else:\n",
    "            if lo is None or a1[i] - a2[j] < hi - lo:\n",
    "                lo, hi = a2[j], a1[i]\n",
    "            j += 1\n",
    "    while i < len(a1):\n",
    "        if lo is None or a1[i] - a2[-1] < hi - lo:\n",
    "            lo, hi = a1[i], a2[-1]\n",
    "        i += 1\n",
    "    while j < len(a2):\n",
    "        if lo is None or a2[j] - a1[-1] < hi - lo:\n",
    "            lo, hi = a2[j], a1[-1]\n",
    "        j += 1\n",
    "    assert arrayHasEltInInterval(a1, lo, hi)\n",
    "    assert arrayHasEltInInterval(a2, lo, hi)\n",
    "    return (lo, hi)"
   ]
  },
  {
   "cell_type": "code",
   "execution_count": 13,
   "id": "63dd7e05",
   "metadata": {
    "deletable": false,
    "editable": false,
    "nbgrader": {
     "cell_type": "code",
     "checksum": "b38b16c72747453091250bafab031042",
     "grade": true,
     "grade_id": "cell-818acc41ac55a5fe",
     "locked": true,
     "points": 10,
     "schema_version": 3,
     "solution": false,
     "task": false
    }
   },
   "outputs": [
    {
     "name": "stdout",
     "output_type": "stream",
     "text": [
      "-- Test 1 --\n",
      "4 5\n",
      "passed\n",
      "-- Test 2 --\n",
      "16 18\n",
      "passed\n",
      "-- Test 3 -- \n",
      "285 285\n",
      "passed\n",
      "-- Test 4--\n",
      "582 582\n",
      "All Tests Passed: 10 points.\n"
     ]
    }
   ],
   "source": [
    "from random import randint\n",
    "\n",
    "def arrayHasEltInInterval(a, l, u):\n",
    "    assert l <= u\n",
    "    for elt in a:\n",
    "        if l <= elt and elt <= u:\n",
    "            return True\n",
    "    return False\n",
    "\n",
    "print('-- Test 1 --')\n",
    "a1 = [ 1, 4, 8, 9, 14, 15, 18 ]\n",
    "a2 = [ 5, 10,  19, 23]\n",
    "(l, u) = findMinContainingInterval(a1, a2)\n",
    "print(l, u)\n",
    "assert u -l == 1\n",
    "assert arrayHasEltInInterval(a1, l, u)\n",
    "assert arrayHasEltInInterval(a2, l, u)\n",
    "print('passed')\n",
    "\n",
    "print('-- Test 2 --')\n",
    "a1 = [1, 5, 10, 11, 18, 21, 28, 37]\n",
    "a2 = [ -4, 16, 32, 34]\n",
    "(l, u) =  findMinContainingInterval(a1, a2)\n",
    "print(l, u)\n",
    "assert u - l == 2\n",
    "assert arrayHasEltInInterval(a1, l, u)\n",
    "assert arrayHasEltInInterval(a2, l, u)\n",
    "print('passed')\n",
    "\n",
    "print('-- Test 3 -- ')\n",
    "a1 = list(range(0, 100000, 5))\n",
    "a2 = list(range(257, 1000000, 7))\n",
    "(l, u) =  findMinContainingInterval(a1, a2)\n",
    "print(l, u)\n",
    "assert u - l == 0\n",
    "assert arrayHasEltInInterval(a1, l, u)\n",
    "assert arrayHasEltInInterval(a2, l, u)\n",
    "print('passed')\n",
    "\n",
    "print('-- Test 4--')\n",
    "a1 = sorted([ randint(-1000000, 1000000) for i in range(100000)])\n",
    "a2 = sorted([ randint(0, 1000) for i in range(100)])\n",
    "(l, u) =  findMinContainingInterval(a1, a2)\n",
    "print(l, u)\n",
    "assert arrayHasEltInInterval(a1, l, u)\n",
    "assert arrayHasEltInInterval(a2, l, u)\n",
    "\n",
    "print('All Tests Passed: 10 points.')\n"
   ]
  },
  {
   "cell_type": "markdown",
   "id": "71e7f96b",
   "metadata": {
    "deletable": false,
    "editable": false,
    "nbgrader": {
     "cell_type": "markdown",
     "checksum": "0c0aae02d6a21d0c658ac77461d57606",
     "grade": false,
     "grade_id": "cell-1e9bd3b47f303be1",
     "locked": true,
     "schema_version": 3,
     "solution": false,
     "task": false
    }
   },
   "source": [
    "## That's all folks!"
   ]
  },
  {
   "cell_type": "code",
   "execution_count": null,
   "id": "317b0ff3",
   "metadata": {},
   "outputs": [],
   "source": []
  }
 ],
 "metadata": {
  "kernelspec": {
   "display_name": "Python 3 (ipykernel)",
   "language": "python",
   "name": "python3"
  },
  "language_info": {
   "codemirror_mode": {
    "name": "ipython",
    "version": 3
   },
   "file_extension": ".py",
   "mimetype": "text/x-python",
   "name": "python",
   "nbconvert_exporter": "python",
   "pygments_lexer": "ipython3",
   "version": "3.9.16"
  }
 },
 "nbformat": 4,
 "nbformat_minor": 5
}
